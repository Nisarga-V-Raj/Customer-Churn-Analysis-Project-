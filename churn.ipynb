{
 "cells": [
  {
   "cell_type": "markdown",
   "metadata": {},
   "source": [
    "**CUSTOMER CHURN ANALYSIS**"
   ]
  },
  {
   "cell_type": "code",
   "execution_count": 127,
   "metadata": {},
   "outputs": [],
   "source": [
    "import pandas as pd#for dataframes\n",
    "import numpy as np#for numerical computing\n",
    "#for data visualization\n",
    "import matplotlib.pyplot as plt\n",
    "import seaborn as sns\n",
    "from sklearn.preprocessing import LabelEncoder#label encoding\n",
    "from sklearn.model_selection import train_test_split#splitting the data\n",
    "#importing machine learning models\n",
    "from sklearn.linear_model import LogisticRegression\n",
    "from sklearn.ensemble import RandomForestClassifier\n",
    "from sklearn.metrics import accuracy_score,roc_auc_score,classification_report,confusion_matrix\n",
    "from sklearn.tree import DecisionTreeClassifier"
   ]
  },
  {
   "cell_type": "code",
   "execution_count": null,
   "metadata": {},
   "outputs": [],
   "source": [
    "churn_df=pd.read_csv(\"Customer-Churn-Records (1).csv\")#reading the csv file"
   ]
  },
  {
   "cell_type": "code",
   "execution_count": null,
   "metadata": {},
   "outputs": [],
   "source": [
    "churn_df.head()#displaying top 5 rows"
   ]
  },
  {
   "cell_type": "code",
   "execution_count": null,
   "metadata": {},
   "outputs": [],
   "source": [
    "churn_df.columns#displaying column names"
   ]
  },
  {
   "cell_type": "code",
   "execution_count": null,
   "metadata": {},
   "outputs": [],
   "source": [
    "churn_df.shape#displaying shape"
   ]
  },
  {
   "cell_type": "code",
   "execution_count": null,
   "metadata": {},
   "outputs": [],
   "source": [
    "churn_df.dtypes#displaying data types"
   ]
  },
  {
   "cell_type": "code",
   "execution_count": null,
   "metadata": {},
   "outputs": [],
   "source": [
    "churn_df.isnull().sum()#checking for null values"
   ]
  },
  {
   "cell_type": "code",
   "execution_count": null,
   "metadata": {},
   "outputs": [],
   "source": [
    "churn_df.duplicated().sum()#checking for duplicate values"
   ]
  },
  {
   "cell_type": "code",
   "execution_count": null,
   "metadata": {},
   "outputs": [],
   "source": [
    "churn_df.drop([\"RowNumber\",\"CustomerId\",\"Surname\"],axis=1,inplace=True)#dropping unneccesary columns"
   ]
  },
  {
   "cell_type": "markdown",
   "metadata": {},
   "source": [
    "------------------------------------------------------------------------------\n",
    "visualization"
   ]
  },
  {
   "cell_type": "code",
   "execution_count": null,
   "metadata": {},
   "outputs": [],
   "source": [
    "churn_df_cat=churn_df[[\"Geography\",\"Gender\",\"HasCrCard\",\"IsActiveMember\",\"Card Type\",\"Exited\"]]#selecting categorical columns"
   ]
  },
  {
   "cell_type": "code",
   "execution_count": null,
   "metadata": {},
   "outputs": [],
   "source": [
    "plt.figure(figsize = (12, 10))#plotting pie chart\n",
    "#plotting pie chart\n",
    "for i, col in enumerate(churn_df_cat.columns):\n",
    "  plt.subplot(2, 3, i+1)#It divides the plotting area into a grid of 2 rows and 3 columns.\n",
    "  x = churn_df[col].value_counts().reset_index()\n",
    "  plt.pie(x=x['count'], labels=x[col], autopct=\"%0.1f%%\")\n",
    "  plt.title(col)\n",
    "plt.tight_layout()\n",
    "plt.show()"
   ]
  },
  {
   "cell_type": "code",
   "execution_count": null,
   "metadata": {},
   "outputs": [],
   "source": [
    "churn_df.Exited.value_counts()"
   ]
  },
  {
   "cell_type": "markdown",
   "metadata": {},
   "source": [
    "from the above graph we can see that majority of the people havent left the bank<br>\n",
    "Total number of customer=10000<br>\n",
    "Total number of customer who left= 2038<br>\n",
    "Churn=Total number of customer who left/Total number of customer<br>\n",
    "churn=2038/10000=0.203800<br>\n",
    "churn percentage=20.38%\n"
   ]
  },
  {
   "cell_type": "markdown",
   "metadata": {},
   "source": [
    "From the above pie chart we can see the various categories of people who left the bank and those who havent left the bank and the percentage of each category"
   ]
  },
  {
   "cell_type": "code",
   "execution_count": null,
   "metadata": {},
   "outputs": [],
   "source": [
    "plt.figure(figsize = (12, 10))\n",
    "#for countplot\n",
    "for i, col in enumerate(churn_df_cat.columns):\n",
    "  plt.subplot(2, 3, i+1)\n",
    "  x = churn_df[col].value_counts().reset_index()\n",
    "  sns.countplot(data=churn_df,x=col,hue=\"Exited\",palette=\"YlGnBu\")\n",
    "  plt.title(col)\n",
    "plt.tight_layout()\n",
    "plt.show()"
   ]
  },
  {
   "cell_type": "code",
   "execution_count": null,
   "metadata": {},
   "outputs": [],
   "source": [
    "churn_df_num=churn_df[['CreditScore', 'Age', 'Tenure', 'Balance', 'NumOfProducts', 'EstimatedSalary']]\n",
    "plt.figure(figsize = (12, 10))\n",
    "#for countplot and histogram\n",
    "for i, col in enumerate(churn_df_num.columns):\n",
    "  plt.subplot(3, 2, i+1)\n",
    "  if (col in ['Tenure', 'NumOfProducts']):\n",
    "    sns.countplot(data=churn_df, x=col)\n",
    "  else:\n",
    "    sns.histplot(data=churn_df, x=col, bins=20, kde=True)\n",
    "  plt.title(col)\n",
    "plt.tight_layout()\n",
    "plt.show()"
   ]
  },
  {
   "cell_type": "code",
   "execution_count": null,
   "metadata": {},
   "outputs": [],
   "source": [
    "sns.countplot(data=churn_df,x=\"Complain\",hue=\"Satisfaction Score\")\n",
    "plt.title(\"complain count\")"
   ]
  },
  {
   "cell_type": "markdown",
   "metadata": {},
   "source": [
    "From the plot we can see that the satisfication score of people who left the bank were having an moderately satisifed"
   ]
  },
  {
   "cell_type": "code",
   "execution_count": null,
   "metadata": {},
   "outputs": [],
   "source": [
    "plt.figure(figsize=(10,5))\n",
    "sns.histplot(data=churn_df,x=\"Age\",hue=\"Exited\",palette=\"YlGnBu\",bins=10,kde=True)\n",
    "plt.title(\"Which age group people left the bank more and which age group is the majority of the costumer\")"
   ]
  },
  {
   "cell_type": "markdown",
   "metadata": {},
   "source": [
    "from the above graph we can say the majority of the people who left the bank are in the age group of 20-50 and the majority of the people who havent left the bank are in the age group of 40-60"
   ]
  },
  {
   "cell_type": "code",
   "execution_count": null,
   "metadata": {},
   "outputs": [],
   "source": [
    "plt.figure(figsize=(10,5))\n",
    "sns.boxplot(data=churn_df,x=\"Card Type\",y=\"Point Earned\",hue=\"Exited\",palette=\"pastel\")\n",
    "plt.grid()\n",
    "plt.title(\"Card type vs point earned\")"
   ]
  },
  {
   "cell_type": "markdown",
   "metadata": {},
   "source": [
    "Box Plot: A box plot shows the distribution of the data, indicating the median, quartiles, and potential outliers for each group.\n",
    "\n",
    "The box represents the interquartile range (IQR), with the line inside the box showing the median.\n",
    "The whiskers extend to show the range of the data, excluding outliers.\n",
    "Outliers may be shown as individual points outside the whiskers."
   ]
  },
  {
   "cell_type": "markdown",
   "metadata": {},
   "source": [
    "from the above graph we can see that people who left the bank have earned more points than people who havent left the bank "
   ]
  },
  {
   "cell_type": "code",
   "execution_count": null,
   "metadata": {},
   "outputs": [],
   "source": [
    "plt.figure(figsize=(10,5))\n",
    "sns.countplot(data=churn_df,x=\"Geography\",hue=\"Exited\",palette=\"pastel\")\n",
    "plt.title(\"Which country has more churn rate\")\n",
    "plt.grid()"
   ]
  },
  {
   "cell_type": "markdown",
   "metadata": {},
   "source": [
    "from the above plot we can say that Germany has more churn rate than france and spain"
   ]
  },
  {
   "cell_type": "code",
   "execution_count": null,
   "metadata": {},
   "outputs": [],
   "source": [
    "cross_tab_agg = pd.crosstab(churn_df['Gender'], churn_df['Exited'])#cross tab\n",
    "cross_tab_agg.value_counts()"
   ]
  },
  {
   "cell_type": "code",
   "execution_count": null,
   "metadata": {},
   "outputs": [],
   "source": [
    "plt.figure(figsize=(10,5))\n",
    "sns.scatterplot(data=churn_df,x=\"Age\",y=\"CreditScore\",hue=\"Exited\",palette=\"YlGnBu\")\n",
    "plt.title(\"Credit card score vs age\")"
   ]
  },
  {
   "cell_type": "markdown",
   "metadata": {},
   "source": [
    "from the plot we can see that people who havent left the bank are in the age group of 20-40 and people who have left the bank are in the age group of 40-60 , we can see that the age group of majority of old people have a credit score of 700 and the age group of majority of young people have a credit score of 500"
   ]
  },
  {
   "cell_type": "code",
   "execution_count": null,
   "metadata": {},
   "outputs": [],
   "source": [
    "sns.heatmap(data=churn_df_num.corr(),annot=True,linewidths=0.7)"
   ]
  },
  {
   "cell_type": "markdown",
   "metadata": {},
   "source": [
    "from the above heatmap we can see that instances are correlated to each other within a range of 0.7 to -0.7"
   ]
  },
  {
   "cell_type": "markdown",
   "metadata": {},
   "source": [
    "------------------------------------------------------------------------------------------------------------------------\n",
    "data preprocessing"
   ]
  },
  {
   "cell_type": "code",
   "execution_count": null,
   "metadata": {},
   "outputs": [],
   "source": [
    "churn_df[\"Balance\"]=churn_df[\"Balance\"].apply(np.int64)#changing data type\n",
    "churn_df[\"EstimatedSalary\"]=churn_df[\"EstimatedSalary\"].apply(np.int64)#changing data type"
   ]
  },
  {
   "cell_type": "code",
   "execution_count": null,
   "metadata": {},
   "outputs": [],
   "source": [
    "le=LabelEncoder()#label encoding\n",
    "churn_df[\"Card Type\"]=le.fit_transform(churn_df[\"Card Type\"])\n",
    "churn_df[\"Geography\"]=le.fit_transform(churn_df[\"Geography\"])\n",
    "churn_df[\"Gender\"]=le.fit_transform(churn_df[\"Gender\"])\n",
    "churn_df.dtypes"
   ]
  },
  {
   "cell_type": "code",
   "execution_count": null,
   "metadata": {},
   "outputs": [],
   "source": [
    "X=churn_df.drop(\"Exited\",axis=1)#dropping target variable\n",
    "y=churn_df.Exited\n",
    "X_train,X_test,y_train,y_test=train_test_split(X,y,test_size=0.3,random_state=42)#data is split into 70 %training and 30% testing\n",
    "print(f\"Training set size: {X_train.shape}, {y_train.shape}\")\n",
    "print(f\"Testing set size: {X_test.shape}, {y_test.shape}\")"
   ]
  },
  {
   "cell_type": "markdown",
   "metadata": {},
   "source": [
    "-----------------------------------------------------------------------------------------\n",
    "model building"
   ]
  },
  {
   "cell_type": "code",
   "execution_count": null,
   "metadata": {},
   "outputs": [],
   "source": [
    "#logistic regression\n",
    "log_reg=LogisticRegression()\n",
    "log_reg.fit(X_train,y_train)#training\n",
    "y_pred_log=log_reg.predict(X_test)#predicting\n",
    "accuracy_score(y_test,y_pred_log)#checking accuracy\n",
    "print(\"Classification report\",classification_report(y_test,y_pred_log))#classification report\n",
    "cmf_log=confusion_matrix(y_test,y_pred_log)#confusion matrix\n",
    "sns.heatmap(cmf_log,annot=True,linewidths=0.7,fmt=\"d\")#heatmap"
   ]
  },
  {
   "cell_type": "code",
   "execution_count": null,
   "metadata": {},
   "outputs": [],
   "source": [
    "#random forest\n",
    "random=RandomForestClassifier(n_estimators=100)\n",
    "random.fit(X_train,y_train)#training\n",
    "y_pred_random=random.predict(X_test)#predicting\n",
    "accuracy_score(y_test,y_pred_random)#checking accuracy\n",
    "print(classification_report(y_test,y_pred_random))#classification report\n",
    "cmf_random=confusion_matrix(y_test,y_pred_random)#confusion matrix\n",
    "sns.heatmap(cmf_random,annot=True,linewidths=0.7,fmt=\"d\")#heatmap"
   ]
  },
  {
   "cell_type": "code",
   "execution_count": null,
   "metadata": {},
   "outputs": [],
   "source": [
    "#decision tree\n",
    "dec=DecisionTreeClassifier(criterion=\"entropy\",max_depth=5)\n",
    "dec.fit(X_train,y_train)#training\n",
    "y_pred_dec=dec.predict(X_test)#predicting\n",
    "accuracy_score(y_test,y_pred_dec)#checking accuracy\n",
    "print(classification_report(y_test,y_pred_dec))#classification report\n",
    "cmf_decision=confusion_matrix(y_test,y_pred_dec)#confusion matrix\n",
    "sns.heatmap(cmf_decision,annot=True,linewidths=0.7,fmt=\"d\")"
   ]
  },
  {
   "cell_type": "code",
   "execution_count": null,
   "metadata": {},
   "outputs": [],
   "source": [
    "#calculating roc auc score\n",
    "log=roc_auc_score(y_test,y_pred_log)\n",
    "random=roc_auc_score(y_test,y_pred_random)\n",
    "decision=roc_auc_score(y_test,y_pred_dec)\n",
    "print(\"ROC AUC SCORES\")\n",
    "print(\"\\nLogisticRegression: \",log)\n",
    "print(\"\\nRandomForestClassifier: \",random)\n",
    "print(\"\\nDecisionTreeClassifier: \",decision)"
   ]
  }
 ],
 "metadata": {
  "kernelspec": {
   "display_name": "Python 3",
   "language": "python",
   "name": "python3"
  },
  "language_info": {
   "codemirror_mode": {
    "name": "ipython",
    "version": 3
   },
   "file_extension": ".py",
   "mimetype": "text/x-python",
   "name": "python",
   "nbconvert_exporter": "python",
   "pygments_lexer": "ipython3",
   "version": "3.10.5"
  }
 },
 "nbformat": 4,
 "nbformat_minor": 2
}
